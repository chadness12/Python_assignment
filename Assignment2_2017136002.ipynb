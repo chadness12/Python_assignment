{
 "cells": [
  {
   "cell_type": "markdown",
   "metadata": {},
   "source": [
    "# Assignment 2_2017136002"
   ]
  },
  {
   "cell_type": "markdown",
   "metadata": {},
   "source": [
    "### 1) 다음 6 개의 Expression에 대해 Evaluation 결과 값을 출력하고, 해당 결과가 나온 이유에 대해 설명하시오\n",
    "- 1 and 2 and 3 and 4\n",
    "- 1 or 2 or 3 or 4\n",
    "- 1 and 2 or 3 and 4\n",
    "- (1 and 2) or (3 and 4)\n",
    "- 1 or 2 and 3 or 4\n",
    "- (1 or 2) and (3 or 4)"
   ]
  },
  {
   "cell_type": "code",
   "execution_count": 4,
   "metadata": {},
   "outputs": [
    {
     "name": "stdout",
     "output_type": "stream",
     "text": [
      "4\n",
      "1\n",
      "2\n",
      "2\n",
      "1\n",
      "3\n",
      "1\n",
      "3\n"
     ]
    }
   ],
   "source": [
    "print(1 and 2 and 3 and 4)\n",
    "print(1 or 2 or 3 or 4)\n",
    "print(1 and 2 or 3 and 4)\n",
    "print((1 and 2) or (3 and 4))\n",
    "print(1 or 2 and 3 or 4)\n",
    "print((1 or 2) and (3 or 4))"
   ]
  },
  {
   "cell_type": "markdown",
   "metadata": {},
   "source": [
    "##### 1. 코드에 대한 설명\n",
    "1. And연산은 뒤에 값이 True 또는 False의 값을 평가 하여야하므로 마지막 값을 출력한다\n",
    "2. OR연산은 앞에 값이 True이면 문장 전체가 참이므로 뒤에 값을 평가하지 않는다.\n",
    "3. 1 and 2의 연산으로 2(True) 값으로 평가되어 or 연산 시 2는 (true)이므로 2를 반환하고 뒤의 연산을 평가 하지 않는다.\n",
    "4. 각 괄호 연산이 끝나고 1 and 2를 만나므로 값 또한 True 이므로 2를 반환한다. 3번 문제와 동일\n",
    "5. 1 or 2는 이미 1이 True로 평가되므로 1을 반환하고 뒤의 값을 평가하지 않는다.\n",
    "6. (1 or 2) 연산의 결과와 (3 or 4)의 결과 값으로 and연산을 하여 평가하여야 하므로 두 괄호의 연산 후 1 and 3이 되어 3을 출력한다."
   ]
  },
  {
   "cell_type": "markdown",
   "metadata": {},
   "source": [
    "### 2) 경로에 해당하는 문자열 1개를 입력 받아 그 안에 디렉토리 경로명과 파일명을 분리하여 리스트로 반환하는 함수 div_path(s)를 작성하시오.\n",
    "- 인자로 전달하는 문자열은 경로만 들어간다고 가정한다.\n",
    "- 각 디렉토리와 파일을 구분하는 문자는 '/'로 가정한다.\n",
    "- 반환하는 리스트의 첫번째 원소는 디렉토리이고 두번째 원소는 파일명이다.\n",
    "- 다음과 같은 실행 및 출력 결과가 도출되어야 한다.\n",
    "    - div_path('/usr/local/bin/python')\n",
    "        - ['/usr/local/bin', 'python']\n",
    "    - div_path('/home/chulsoo/test.txt')\n",
    "        - ['/home/chulsoo', 'test.txt']\n",
    "- [참고] 리스트(l) 내에 새로운 정수값 (예를 들어 10)을 넣는 방법은 l.append(10) 이다."
   ]
  },
  {
   "cell_type": "code",
   "execution_count": 45,
   "metadata": {},
   "outputs": [],
   "source": [
    "def div_path(s):\n",
    "    files = s.split('/')[-1]\n",
    "    drec = '/'.join(s.split('/')[:-1])\n",
    "    return [drec,files]"
   ]
  },
  {
   "cell_type": "code",
   "execution_count": 47,
   "metadata": {},
   "outputs": [
    {
     "name": "stdout",
     "output_type": "stream",
     "text": [
      "['/usr/local/bin', 'python']\n",
      "['/home/chulsoo', 'test.txt']\n"
     ]
    }
   ],
   "source": [
    "print(div_path('/usr/local/bin/python'))\n",
    "print(div_path('/home/chulsoo/test.txt'))"
   ]
  },
  {
   "cell_type": "markdown",
   "metadata": {},
   "source": [
    "##### 2. 코드에 대한 설명\n",
    "- 문자열을 '/'로 split하여 반환된 리스트 마지막 값은 파일이름이므로 따로 저장한다.\n",
    "- 마지막 리스트인 파일명을 제외한 남은 리스트 값은 '/'로 조인하여 디렉토리 주소로 변환하고 주소값을 따로 저장한다.\n",
    "- 디렉토리 주소와 파일명을 리스트로 묶어 반환하여 줍니다."
   ]
  },
  {
   "cell_type": "markdown",
   "metadata": {},
   "source": [
    "### 3) 두 개의 리스트를 인자로 받아서 그 두 개의 리스트에 대한 '합집합'을 반환하는 함수 list_union(lista, listb)를 작성하시오.\n",
    "\n",
    "- 인자로 전달하는 리스트 2 개에는 정수값만 들어간다고 가정하자.\n",
    "- 함수 내에서 새로운 리스트를 만들어 그 리스트 내에 인자로 받은 두 리스트의 모든 원소를 넣어 반환한다.\n",
    "- 반환하는 리스트에는 절대로 중복된 원소가 들어 있으면 안된다 (집합의 조건).\n",
    "- 반환하는 리스트는 정렬이 되어 있어야 한다.\n",
    "- 다음과 같은 실행 및 출력 결과가 도출되어야 한다.\n",
    "    - list_union([1, 2, 3], [1, 2, 4])\n",
    "        - [1, 2, 3, 4]\n",
    "    - list_union([-10, -5, 0, -1], [100, 9, 0, 9])\n",
    "        - [-10, -5, -1, 0, 9, 100]\n",
    "    - list_union([0, 1, 2], [0, 1, 2])\n",
    "         - [0, 1, 2]\n",
    "- [참고] 리스트(l) 내에 새로운 정수값 (예를 들어 10)을 넣는 방법은 l.append(10) 이다.\n",
    "- [참고] 임의의 정수값 (x)이 리스트 (l) 내에 존재하는지 판단하는 방법은 x in l 이다.\n"
   ]
  },
  {
   "cell_type": "code",
   "execution_count": 1,
   "metadata": {},
   "outputs": [],
   "source": [
    "def list_union(lista, listb):\n",
    "    tmp =[]\n",
    "    [tmp.append(i) for i in set(lista + listb)]\n",
    "    tmp.sort()\n",
    "    return tmp"
   ]
  },
  {
   "cell_type": "code",
   "execution_count": 2,
   "metadata": {},
   "outputs": [
    {
     "name": "stdout",
     "output_type": "stream",
     "text": [
      "[1, 2, 3, 4]\n",
      "[-10, -5, -1, 0, 9, 100]\n",
      "[0, 1, 2]\n"
     ]
    }
   ],
   "source": [
    "print(list_union([1, 2, 3], [1, 2, 4]))\n",
    "print(list_union([-10, -5, 0, -1], [100, 9, 0, 9]))\n",
    "print(list_union([0, 1, 2], [0, 1, 2]))"
   ]
  },
  {
   "cell_type": "markdown",
   "metadata": {},
   "source": [
    "##### 3. 코드에 대한 설명\n",
    "- 함수내에 임시로 리스트를 생성합니다.\n",
    "- 두개의 받아온 list를 더하여 리스트의 원소값을 더한 후 set함수를 사용하여 더한 리스트의 값에 중복된 값을 제거하여줍니다.\n",
    "- 그리고 제거한 값을 for문을 사용하여 추출한 뒤 tmp에 추가하여 줍니다.\n",
    "- 그 후 값을 정렬한 후 tmp 값을 반환하여 줍니다."
   ]
  },
  {
   "cell_type": "markdown",
   "metadata": {},
   "source": [
    "### 4. [ACM-ICPC 문제 10809번]\n",
    "\n",
    "- 알파벳 찾기\n",
    "- https://www.acmicpc.net/problem/10809\n",
    "![./images/assi_2/1.png](./images/Assi_2/1.png)"
   ]
  },
  {
   "cell_type": "code",
   "execution_count": 3,
   "metadata": {
    "scrolled": true
   },
   "outputs": [
    {
     "name": "stdout",
     "output_type": "stream",
     "text": [
      "beckjoon\n",
      "-1 0 2 -1 1 -1 -1 -1 -1 4 3 -1 -1 7 5 -1 -1 -1 -1 -1 -1 -1 -1 -1 -1 -1 "
     ]
    }
   ],
   "source": [
    "s = input()\n",
    "for i in list(\"abcdefghijklmnopqrstuvwxyz\"):\n",
    "    print(s.find(i), end = ' ')"
   ]
  },
  {
   "cell_type": "markdown",
   "metadata": {},
   "source": [
    "##### 4. 코드에 대한 설명\n",
    "- 임시 리스트에 알파벳을 입력한 후 for문을 사용하여 문자 하나씩 변수 i에 대입한다.\n",
    "- find함수를 사용하여 문자열 s에 알파벳을 각각 대입하여 인덱스 값을 출력한다.\n"
   ]
  },
  {
   "cell_type": "markdown",
   "metadata": {},
   "source": [
    "### 5 [ACM-ICPC 문제 2675번]\n",
    "\n",
    "문자열 반복\n",
    "https://www.acmicpc.net/problem/2675\n",
    "![./images/assi_2/2.png](./images/Assi_2/2.png)"
   ]
  },
  {
   "cell_type": "code",
   "execution_count": 4,
   "metadata": {},
   "outputs": [
    {
     "name": "stdout",
     "output_type": "stream",
     "text": [
      "2\n",
      "3 ABC\n",
      "AAABBBCCC\n",
      "2 /HTC\n",
      "//HHTTCC\n"
     ]
    }
   ],
   "source": [
    "C = int(input())\n",
    "for i in range(C):\n",
    "    R, S = map(str, input().split())\n",
    "    for j in S:\n",
    "        print(j*int(R), end=\"\")\n",
    "    print()"
   ]
  },
  {
   "cell_type": "markdown",
   "metadata": {},
   "source": [
    "##### 5. 코드에 대한 설명\n",
    "- C에 반복횟수를 입력 받는다.\n",
    "- map함수를 사용하여 입력 받은 데이터를 각 문자에 반복횟수를 R, 문자열을 S에 대입한다.\n",
    "- 문자열 S에 각각 한 알파벳을 for문을 사용하여 출력한다\n",
    "- 마지막에 print()하여 한줄을 띄워준다."
   ]
  },
  {
   "cell_type": "markdown",
   "metadata": {},
   "source": [
    "## Incremental Project 문제"
   ]
  },
  {
   "cell_type": "code",
   "execution_count": 5,
   "metadata": {},
   "outputs": [
    {
     "name": "stdout",
     "output_type": "stream",
     "text": [
      "['컴퓨터공학부', 'var', 'current_url', '=', '\"https://cse.koreatech.ac.kr/\";', 'var', 'request_uri', '=', '\"https://cse.koreatech.ac.kr/\";', 'var', 'current_mid', '=', '\"home_2015\";', 'var', 'waiting_message', '=', '\"서버에', '요청', '중입니다.', '잠시만', '기다려주세요.\";', 'var', 'ssl_actions', '=', 'new', 'Array();', 'var', 'default_url', '=', '\"https://cse.koreatech.ac.kr/\";', 'var', 'http_port', '=', '80;var', 'https_port', '=', '443;var', 'enforce_ssl', '=', 'true;', '//<![CDATA[', 'xe.current_lang', '=', '\"ko\";', 'xe.cmd_find', '=', '\"찾기\";', 'xe.cmd_cancel', '=', '\"취소\";', 'xe.cmd_confirm', '=', '\"확인\";', 'xe.msg_no_root', '=', '\"루트는', '선택', '할', '수', '없습니다.\";', 'xe.msg_no_shortcut', '=', '\"바로가기는', '선택', '할', '수', '없습니다.\";', 'xe.msg_select_menu', '=', '\"대상', '메뉴', '선택\";', '//]]>', 'Schoolfun', '-', 'Study', 'and', 'Fun', '<!--', '-->', '로그인', '로그인', '아이디', '비밀번호', '로그인', '유지', '브라우저를', '닫더라도', '로그인이', '계속', '유지될', '수', '있습니다.', '로그인', '유지', '기능을', '사용할', '경우', '다음', '접속부터는', '로그인할', '필요가', '없습니다.', '단,', '게임방,', '학교', '등', '공공장소에서', '이용', '시', '개인정보가', '유출될', '수', '있으니', '꼭', '로그아웃을', '해주세요.', '회원가입', 'ID/PW', '찾기', 'IT', '교육의', '글로벌', '메카!한국기술교육대학교', '컴퓨터공학부', 'Close', '소개', '구성원소개', '학사안내', '입학', '학부', '대학원', '학부광장', '자료실', '대학원', '공학교육인증', '학부서비스', 'Registration', '컴퓨터공학부', 'School', 'of', 'Computer', 'Science', 'and', 'Engineering', 'IT', '융합소프트웨어', '인력양성사업', 'CK', '(Creative', 'Korea)-I', '교육역량강화사업', '온라인', '컨텐츠', 'Online', 'Contents', 'for', 'Education', 'Capability', 'Empowerment', 'IT', '교육의', '글로벌', '메카', '한국기술교육대학교', '컴퓨터공학부', '홈페이지에', '오신', '것을환영합니다!', 'IT', '융합소프트웨어', '인력양성사업', '글로벌', '수준의', 'IT전문인력', '양성', 'IT융합분야에', '대한', '국제적인', '경쟁력', '고취', '바로가기', '교육역량강화사업', '컨텐츠', '교육역량강화사업', '온라인', '컨텐츠를', '소개합니다.', '바로가기', '공지사항', '[특성화]', '5차년도', 'IT융합', '개도국', '기술지원', '봉사(해외)', '...', '2018-10-17', '13:57', '13:57', '[특성화]', '2018', '졸업작품', '산업체', '평가회', '결과', '공지(졸작...', '2018-10-16', '15:52', '15:52', '[특성화]', '5차년도', '지식재산권(특허)', '출원', '지원', '접수', '알림', '2018-10-16', '09:32', '09:32', '[특성화]', 'G-STAR', '2018', '전시회', '선발', '학생', '공고', '2018-10-08', '17:14', '17:14', '[특성화][신청마감]', 'G-STAR', '2018', '전시회', '학생', '모집', '공고', '2018-10-08', '15:24', '15:24', '자유게시판', '졸업작품전시회', '기간', '헤어/메이크업', '2018-10-07', '14:48', '14:48', '※모의토익비', '지원', '공지※', '2018-09-28', '09:37', '09:37', 'ACM-ICPC', '예선', '신청기간이', '얼마', '안', '남았습니다!', '2018-09-13', '11:36', '11:36', '문화행사', '취소', '공지', '2018-09-10', '19:17', '19:17', '&amp;lt;2018학년도', '2학기&amp;gt;', '사물함', '신청을', '받겠...', '2018-09-06', '13:06', '13:06', '취업게시판', '[국가보안기술연구소]', '정규직', '채용', '2018-10-04', '14:18', '14:18', '한글과컴퓨터그룹', '2018년', '하반기', '신입/경력', '공채', '~10.10', '2018-09-27', '13:13', '13:13', '[구인]천안', '충무병원', '전산실', '2018-09-18', '15:25', '15:25', '[정부교육]', 'K-Shield', '주니어', '교육생', '모집(정보보호)', '~9.5', '2018-09-03', '07:53', '07:53', '인천]', '에이스테크놀로지', '연구개발인력', '모집', '~', '2018.9.9...', '2018-08-29', '09:06', '09:06', 'Platum', '금융,', '제조,', '인재', '연결하는', '세계', '최장', '해상교량', '‘강주...', '2018-10-18', '16:26', '16:26', '네이버', '블로그,', '카페', '서비스', '중국에서', '접속', '차단', '2018-10-18', '14:04', '14:04', '中', '최강', '물류', '기업', '‘징동닷컴’,', '택배', '사업', '진출', '2018-10-18', '13:36', '13:36', '비트코인', '기반', '서플라이', '체인', '플랫폼', '‘템코’,', '파운데이...', '2018-10-18', '12:58', '12:58', '문피아,', 'CLL·엔씨소프트로부터', '250억원', '투자', '유치', '2018-10-18', '11:12', '11:12', '전자신문', '이동통신', '가입자', '1만명당', '유통점', '8.2개', '···', '미국...', '2018-10-18', '17:00', '17:00', \"'아이폰XS\", \"맥스'\", '200만원대', '책정', '2018-10-18', '17:00', '17:00', 'LG유플러스,', '5G', '콘텐츠', \"'U+아이돌Live'\", '출시', '2018-10-18', '16:19', '16:19', 'SK텔레콤,', 'AI', '스피커', \"'누구'에\", '한솔교육', '콘텐츠', '탑재', '2018-10-18', '15:41', '15:41', '[뉴스해설]재난망,', '늦은', '만큼', '완성도', '높여야', '2018-10-18', '14:42', '14:42', 'TechCrunch', 'Emma,', 'the', 'money', 'management', 'app,', 'rolls', 'out', 'cryp...', '2018-10-18', '17:00', '17:00', 'Get', 'your', 'Disrupt', 'Berlin', '2018', 'passes', 'before', '24', '...', '2018-10-18', '17:00', '17:00', 'Announcing', 'the', 'TC', 'Top', 'Picks', 'of', 'Disrupt', 'Berlin', '...', '2018-10-18', '17:00', '17:00', 'Cryptocurrency', 'wallet', 'startup', 'Cobo', 'raises', '$13M...', '2018-10-18', '14:48', '14:48', 'Some', 'notable', 'Facebook', 'shareholders', 'file', '(mostl...', '2018-10-18', '13:46', '13:46', '<!--', 'Back', 'to', 'Top', 'Leading', 'Together', 'for', 'Brighter', 'Future', '-->', 'Quick', 'Navigation', '한국기술교육대학교', '홈페이지', '한국기술교육대학교', 'WEBMAIL', '한국기술교육대학교', '온라인', '평생교육원', 'IT', '융합소프트웨어', '인력양성사업', '컴퓨터공학부', '교직원', '업무', '자료실', '컴퓨터공학부', '포트폴리오-->', 'Campus', 'Location', 'Contact', 'CSE', '충청남도', '천안시', '동남구', '병천면', '충절로', '1600한국기술교육대학교', '컴퓨터공학부', '학과사무실', 'TEL', '(041)', '560', '1460', '~', '1461', 'FAX', '(041)', '560', '1462', 'Facebook', 'Twitter', 'Google', 'Plus', 'Linkedin-->', '(31253)', '충청남도', '천안시', '동남구', '병천면', '충절로', '1600', '(가전리,', '한국기술교육대학교)', '컴퓨터공학부', 'Copyright', '©', '2015.', 'All', 'rights', 'reserved']\n"
     ]
    }
   ],
   "source": [
    "import requests as rq\n",
    "import re\n",
    "\n",
    "req = rq.get('http://cse.koreatech.ac.kr')\n",
    "# 학부홈페이지 기본\n",
    "\n",
    "#순수 문자열만 추출하기 위한 코드\n",
    "source = req.text\n",
    "text = re.sub(\"<.+?>\", \"\", source)\n",
    "text_1 = re.split(\"\\s\", text)\n",
    "\n",
    "for i in range(text_1.count(\"\")):\n",
    "    text_1.remove(\"\")\n",
    "print(text_1)"
   ]
  },
  {
   "cell_type": "code",
   "execution_count": 6,
   "metadata": {},
   "outputs": [
    {
     "name": "stdout",
     "output_type": "stream",
     "text": [
      "536\n"
     ]
    }
   ],
   "source": [
    "#순수 문자열로 추출한 문자의 개수\n",
    "print(len(text_1))"
   ]
  },
  {
   "cell_type": "markdown",
   "metadata": {},
   "source": [
    "# 숙제이후 소감"
   ]
  },
  {
   "cell_type": "markdown",
   "metadata": {},
   "source": [
    "- 검색엔진을 만들기 위해 밑작업으로 웹사이트 데이터를 긁어와 정보를 문자단위로 추출는 것이 처음이라는 것을 알았습니다.\n",
    "- 궁금한 점은 리스트에서 특정 값을 제거할 때, remove함수를 썼는데, 특정한 문자 하나만 지워 졌습니다. 혹시 리스트의 똑같은 문자가 여러개 일 때 한번에 지우는 방법이 있는지 궁금합니다.\n",
    "- Beatifulsoup 라이브러리를 사용하지 말라고 하셨는데 어떤 이점 때문에 하지말라고 하셨는지 궁금합니다."
   ]
  }
 ],
 "metadata": {
  "kernelspec": {
   "display_name": "Python 3",
   "language": "python",
   "name": "python3"
  },
  "language_info": {
   "codemirror_mode": {
    "name": "ipython",
    "version": 3
   },
   "file_extension": ".py",
   "mimetype": "text/x-python",
   "name": "python",
   "nbconvert_exporter": "python",
   "pygments_lexer": "ipython3",
   "version": "3.6.6"
  }
 },
 "nbformat": 4,
 "nbformat_minor": 2
}

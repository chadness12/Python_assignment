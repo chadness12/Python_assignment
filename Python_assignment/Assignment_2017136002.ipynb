{
 "cells": [
  {
   "cell_type": "markdown",
   "metadata": {},
   "source": [
    "# Assignment 1_2017136002"
   ]
  },
  {
   "cell_type": "markdown",
   "metadata": {},
   "source": [
    "### 1. a=\"Hello Python\" 문자열을 Slicing과 연결 연산자 (+)를 사용하여 \"Python Hello\"로 변경하시오.\n",
    "- [주의] a 변수 자체에 \"Python Hello\" 문자열이 저장되어야 함"
   ]
  },
  {
   "cell_type": "code",
   "execution_count": 74,
   "metadata": {},
   "outputs": [
    {
     "name": "stdout",
     "output_type": "stream",
     "text": [
      "Python Hello\n"
     ]
    }
   ],
   "source": [
    "a = \"Hello Python\"\n",
    "print(a[6:] + \" \" + a[:5])"
   ]
  },
  {
   "cell_type": "markdown",
   "metadata": {},
   "source": [
    "##### 1. 코드에 대한 설명\n",
    "- 문자열을 슬라이싱하고 중간에 공백을 추가한다."
   ]
  },
  {
   "cell_type": "markdown",
   "metadata": {},
   "source": [
    "### 2. b=\"Hello Python World\" 문자열을 Slicing과 연결 연산자 (+)를 사용하여 \"World Python Hello\"로 변경하시오.\n",
    "- [주의] b 변수 자체에 \"World Python Hello\" 문자열이 저장되어야 함"
   ]
  },
  {
   "cell_type": "code",
   "execution_count": 73,
   "metadata": {},
   "outputs": [
    {
     "name": "stdout",
     "output_type": "stream",
     "text": [
      "World Python Hello\n"
     ]
    }
   ],
   "source": [
    "b= \"Hello Python World\"\n",
    "print(b[13:] + \" \" + b[6:12] + \" \" + b[:5])"
   ]
  },
  {
   "cell_type": "markdown",
   "metadata": {},
   "source": [
    "##### 2. 코드에 대한 설명\n",
    "- 1번의 문제와 동일하게 하였습니다."
   ]
  },
  {
   "cell_type": "markdown",
   "metadata": {},
   "source": [
    "### 3. c=\"Hello\"를 \"olleH\"로 변경하시오\n",
    "- [주의] c 변수 자체에 \"olleH\" 문자열이 저장되어야 함"
   ]
  },
  {
   "cell_type": "code",
   "execution_count": 15,
   "metadata": {},
   "outputs": [
    {
     "name": "stdout",
     "output_type": "stream",
     "text": [
      "olleH\n"
     ]
    }
   ],
   "source": [
    "c = \"Hello\"\n",
    "print(c[::-1])"
   ]
  },
  {
   "cell_type": "markdown",
   "metadata": {},
   "source": [
    "##### 3. 코드에 대한 설명\n",
    "- Slicing에서 마지막인자를 -1로 줍니다."
   ]
  },
  {
   "cell_type": "markdown",
   "metadata": {},
   "source": [
    "### 4. s=\"python\"에 대해 다음 문제를 풀어보시오.\n",
    "1. s[0], s[0][0], s[0][0][0]은 각각 어떤 값이 나오는지 확인하고 그 이유를 나름대로 설명해 보시오.\n",
    "2. s[-100], s[100]은 값이 나오는지 에러가 나오는지 확인하고 그 결과에 대한 이유를 나름대로 설명해 보시오.\n",
    "3. s[-100, 100]은 값이 나오는지 에러가 나오는지 확인하고 그 결과에 대한 이유를 나름대로 설명해 보시오.\n",
    "4. s[1:-1]의 결과를 확인하고 그 결과에 대한 이유를 정확하게 설명하시오.\n",
    "5. s[3:-3]의 결과를 확인하고 그 결과에 대한 이유를 정확하게 설명하시오."
   ]
  },
  {
   "cell_type": "code",
   "execution_count": 16,
   "metadata": {},
   "outputs": [],
   "source": [
    "s = \"python\""
   ]
  },
  {
   "cell_type": "code",
   "execution_count": 30,
   "metadata": {},
   "outputs": [
    {
     "name": "stdout",
     "output_type": "stream",
     "text": [
      "p p p\n",
      "y y y\n"
     ]
    }
   ],
   "source": [
    "# 1번 문항\n",
    "print(s[0],s[0][0],s[0][0][0])\n",
    "print(s[1],s[1][0],s[1][0][0])"
   ]
  },
  {
   "cell_type": "markdown",
   "metadata": {},
   "source": [
    "##### 4-1. 코드에 대한 설명\n",
    "- 값을 입력해본바 문자열의 각 문자는 다차원 배열의 첫번째 주소값을 가지며, 차원을 무한히 늘려도 첫번째로 주소로 접근하면\n",
    "- 각 자리의 알파벳이 출력된다.\n",
    "- 하지만! 각 알파벳은 다차원 배열의 첫번째 자리이므로 1차원 배열의 인덱싱을 제외한 다른 차원의 인덱싱을 변경 시 에러가 발생한다.\n",
    "\n",
    "- ex) print(s[0][0]) -> 'p' 출력\n",
    "- ex) print(s[0][1]) -> error 발생"
   ]
  },
  {
   "cell_type": "code",
   "execution_count": 20,
   "metadata": {},
   "outputs": [
    {
     "ename": "IndexError",
     "evalue": "string index out of range",
     "output_type": "error",
     "traceback": [
      "\u001b[1;31m---------------------------------------------------------------------------\u001b[0m",
      "\u001b[1;31mIndexError\u001b[0m                                Traceback (most recent call last)",
      "\u001b[1;32m<ipython-input-20-97f385f50c1f>\u001b[0m in \u001b[0;36m<module>\u001b[1;34m()\u001b[0m\n\u001b[0;32m      1\u001b[0m \u001b[1;31m# 2번 문항\u001b[0m\u001b[1;33m\u001b[0m\u001b[1;33m\u001b[0m\u001b[0m\n\u001b[1;32m----> 2\u001b[1;33m \u001b[0mprint\u001b[0m\u001b[1;33m(\u001b[0m\u001b[0ms\u001b[0m\u001b[1;33m[\u001b[0m\u001b[1;33m-\u001b[0m\u001b[1;36m100\u001b[0m\u001b[1;33m]\u001b[0m\u001b[1;33m,\u001b[0m\u001b[0ms\u001b[0m\u001b[1;33m[\u001b[0m\u001b[1;36m100\u001b[0m\u001b[1;33m]\u001b[0m\u001b[1;33m)\u001b[0m\u001b[1;33m\u001b[0m\u001b[0m\n\u001b[0m",
      "\u001b[1;31mIndexError\u001b[0m: string index out of range"
     ]
    }
   ],
   "source": [
    "# 2번 문항\n",
    "print(s[-100],s[100])"
   ]
  },
  {
   "cell_type": "markdown",
   "metadata": {},
   "source": [
    "##### 4-2. 코드에 대한 설명\n",
    "- \"string index out of range\"의 에러 발생으로 보아, 문자열의 범위를 넘어선 값을 출력하여 에러가 발생 한 것으로 생각합니다."
   ]
  },
  {
   "cell_type": "code",
   "execution_count": 57,
   "metadata": {},
   "outputs": [
    {
     "ename": "TypeError",
     "evalue": "string indices must be integers",
     "output_type": "error",
     "traceback": [
      "\u001b[1;31m---------------------------------------------------------------------------\u001b[0m",
      "\u001b[1;31mTypeError\u001b[0m                                 Traceback (most recent call last)",
      "\u001b[1;32m<ipython-input-57-cda6d34b62d5>\u001b[0m in \u001b[0;36m<module>\u001b[1;34m()\u001b[0m\n\u001b[0;32m      1\u001b[0m \u001b[1;31m# 3번 문항\u001b[0m\u001b[1;33m\u001b[0m\u001b[1;33m\u001b[0m\u001b[0m\n\u001b[1;32m----> 2\u001b[1;33m \u001b[0mprint\u001b[0m\u001b[1;33m(\u001b[0m\u001b[0ms\u001b[0m\u001b[1;33m[\u001b[0m\u001b[1;33m-\u001b[0m\u001b[1;36m100\u001b[0m\u001b[1;33m,\u001b[0m \u001b[1;36m100\u001b[0m\u001b[1;33m]\u001b[0m\u001b[1;33m)\u001b[0m\u001b[1;33m\u001b[0m\u001b[0m\n\u001b[0m",
      "\u001b[1;31mTypeError\u001b[0m: string indices must be integers"
     ]
    }
   ],
   "source": [
    "# 3번 문항\n",
    "print(s[-100, 100])"
   ]
  },
  {
   "cell_type": "markdown",
   "metadata": {},
   "source": [
    "##### 4-3. 코드에 대한 설명\n",
    "- 인덱싱의 방법이 잘 못되어 에러가 발생하는 것으로 생각합니다."
   ]
  },
  {
   "cell_type": "code",
   "execution_count": 70,
   "metadata": {},
   "outputs": [
    {
     "name": "stdout",
     "output_type": "stream",
     "text": [
      "ytho\n"
     ]
    }
   ],
   "source": [
    "# 4번 문항\n",
    "print(s[1:-1])"
   ]
  },
  {
   "cell_type": "markdown",
   "metadata": {},
   "source": [
    "##### 4-4. 코드에 대한 설명\n",
    "- 문자열의 1번 위치부터 -1 위치 즉 문자열의 마지막 문자 바로 앞까지 슬라이싱을 진행한다."
   ]
  },
  {
   "cell_type": "code",
   "execution_count": 71,
   "metadata": {},
   "outputs": [
    {
     "name": "stdout",
     "output_type": "stream",
     "text": [
      "\n"
     ]
    }
   ],
   "source": [
    "# 5번 문항\n",
    "print(s[3:-3])"
   ]
  },
  {
   "cell_type": "markdown",
   "metadata": {},
   "source": [
    "##### 4-5. 코드에 대한 설명\n",
    "- Slicing의 위치가 문자열의 동일한 위치를 가리키므로 어떤 문자열도 출력하지 않습니다."
   ]
  },
  {
   "cell_type": "markdown",
   "metadata": {},
   "source": [
    "### 5. for문을 활용하여 1부터 100사이의 홀수를 출력하시오."
   ]
  },
  {
   "cell_type": "code",
   "execution_count": 36,
   "metadata": {},
   "outputs": [
    {
     "name": "stdout",
     "output_type": "stream",
     "text": [
      "1 3 5 7 9 11 13 15 17 19 21 23 25 27 29 31 33 35 37 39 41 43 45 47 49 51 53 55 57 59 61 63 65 67 69 71 73 75 77 79 81 83 85 87 89 91 93 95 97 99 "
     ]
    }
   ],
   "source": [
    "for i in range(1,100,2):\n",
    "    print(i, end = \" \")"
   ]
  },
  {
   "cell_type": "markdown",
   "metadata": {},
   "source": [
    "##### 5. 코드에 대한 설명\n",
    "\n",
    "- range함수의 마지막 인자에 2를 추가하여 1부터 2칸 씩 넘어선 값을 출력하여 홀수를 출력합니다."
   ]
  },
  {
   "cell_type": "markdown",
   "metadata": {},
   "source": [
    "### 6. while문을 활용하여 1부터 100사이의 짝수의 합을 계산하여 출력하시오. (1 < i < 100)"
   ]
  },
  {
   "cell_type": "code",
   "execution_count": 43,
   "metadata": {},
   "outputs": [
    {
     "name": "stdout",
     "output_type": "stream",
     "text": [
      "2450\n"
     ]
    }
   ],
   "source": [
    "i = sum =0\n",
    "while i<100:\n",
    "    sum += i\n",
    "    i += 2\n",
    "print(sum)\n"
   ]
  },
  {
   "cell_type": "markdown",
   "metadata": {},
   "source": [
    "##### 6. 코드에 대한 설명\n",
    "- 시작 값을 0으로 짝수로 시작하여 이전 값에 더하기 2를 하여 그 값을 sum에 누적하여 총합 값을 출력합니다."
   ]
  },
  {
   "cell_type": "markdown",
   "metadata": {},
   "source": [
    "### 7. 사용자로 부터 임의의 정수를 입력받고, 해당 숫자를 역순으로 출력하는 프로그램을 작성하시오.\n",
    "- [실행 예]\n",
    "\n",
    " - 정수를 입력하세요: 3125\n",
    " - 숫자 역순은 5213 입니다."
   ]
  },
  {
   "cell_type": "code",
   "execution_count": 67,
   "metadata": {},
   "outputs": [
    {
     "name": "stdout",
     "output_type": "stream",
     "text": [
      "정수를 입력하세요 : 312531251234\n",
      "숫자의 역순은 432152135213 입니다.\n"
     ]
    }
   ],
   "source": [
    "print(\"정수를 입력하세요 : \", end=\"\")\n",
    "intg = input()\n",
    "print(\"숫자의 역순은 \"+intg[::-1]+\" 입니다.\")\n"
   ]
  },
  {
   "cell_type": "markdown",
   "metadata": {},
   "source": [
    "##### 7. 코드에 대한 설명\n",
    "- input함수로 입력 받아 문자열로 역으로 슬라이싱 하여 출력한다."
   ]
  },
  {
   "cell_type": "markdown",
   "metadata": {},
   "source": [
    "### 8. 사용자로 부터 정수를 입력받아서 1부터 그 사이에 존재하는 소수 (Prime number)를 출력하는 파이썬 프로그램을 작성하시오."
   ]
  },
  {
   "cell_type": "code",
   "execution_count": 51,
   "metadata": {},
   "outputs": [
    {
     "name": "stdout",
     "output_type": "stream",
     "text": [
      "소수값을 찾을 범위를 지정하시오 : 100\n",
      "[2, 3, 5, 7, 11, 13, 17, 19, 23, 29, 31, 37, 41, 43, 47, 53, 59, 61, 67, 71, 73, 79, 83, 89, 97]\n"
     ]
    }
   ],
   "source": [
    "primeNum = [2]\n",
    "i = 3\n",
    "print(\"소수값을 찾을 범위를 지정하시오 : \",end=\"\")\n",
    "rang = int(input())\n",
    "\n",
    "while i < rang:\n",
    "    count = 0\n",
    "    \n",
    "    for j in primeNum:\n",
    "        if i%j == 0:\n",
    "            count +=1\n",
    "            \n",
    "    if count == 0:\n",
    "        primeNum.append(i)\n",
    "    i+=1\n",
    "\n",
    "print(primeNum)\n"
   ]
  },
  {
   "cell_type": "markdown",
   "metadata": {},
   "source": [
    "##### 8. 코드에 대한 설명\n",
    "1. 리스트 하나를 선언 후 처음 소수인 2를 대입한다.\n",
    "2. 사용자에게 범위 값을 입력받아, 범위 까지 순차 진행 하면서 소수 리스트에 있는 소수값과 나눈 후 어떠한 소수 값으로도 나뉘지 않은 값은\n",
    "   소수 리스트에 추가한다.\n",
    "3. 위와 값은 진행을 끝까지 진행한다.\n",
    "4. 마지막으로 소수 리스트를 출력한다."
   ]
  },
  {
   "cell_type": "markdown",
   "metadata": {},
   "source": [
    "### 9. [ACM-ICPC 문제 2441번]\n",
    "- 별찍기-4\n",
    "![assignment.1](./images/1.jpg)"
   ]
  },
  {
   "cell_type": "code",
   "execution_count": 53,
   "metadata": {},
   "outputs": [
    {
     "name": "stdout",
     "output_type": "stream",
     "text": [
      "5\n",
      "*****\n",
      " ****\n",
      "  ***\n",
      "   **\n",
      "    *\n"
     ]
    }
   ],
   "source": [
    "size = int(input())\n",
    "i = 0\n",
    "\n",
    "while i < size:\n",
    "    tmp = 0\n",
    "    while tmp < i:\n",
    "        print(\" \", end =\"\")\n",
    "        tmp += 1\n",
    "    while tmp < size:\n",
    "        print(\"*\", end=\"\")\n",
    "        tmp+=1\n",
    "    i+=1\n",
    "    print()\n",
    "    "
   ]
  },
  {
   "cell_type": "markdown",
   "metadata": {},
   "source": [
    "##### 9. 코드에 대한 설명\n",
    "\n",
    "- 입력 받은 값을 처음 모두 별을 찍고 값을 하나씩 줄여간다.\n",
    "- 값을 줄여 가면서 공백의 칸을 늘린다.\n",
    "- 따라서 마지막엔 공백의 칸이 많고 별의 개수가 없어집니다."
   ]
  },
  {
   "cell_type": "markdown",
   "metadata": {},
   "source": [
    "### 10. [ACM-ICPC 문제 11721번]\n",
    "- 열 개씩 끊어 출력하기\n",
    "![assignmet_2](./images/2.jpg)"
   ]
  },
  {
   "cell_type": "code",
   "execution_count": 52,
   "metadata": {},
   "outputs": [
    {
     "name": "stdout",
     "output_type": "stream",
     "text": [
      "0123456789012345678901234567890123456\n",
      "0123456789\n",
      "0123456789\n",
      "0123456789\n",
      "0123456\n"
     ]
    }
   ],
   "source": [
    "strings = input()\n",
    "numstart = 0\n",
    "numend = 10\n",
    "\n",
    "while numend < len(strings):\n",
    "    print(strings[numstart:numend])\n",
    "    numstart = numend\n",
    "    numend += 10\n",
    "    \n",
    "print(strings[numstart:len(strings)])\n",
    "\n"
   ]
  },
  {
   "cell_type": "markdown",
   "metadata": {},
   "source": [
    "##### 10. 코드에 대한 설명\n",
    "1. 슬라이싱할 때 처음 범위를 지정할 변수와 마지막 범위를 지정할 변수 2개를 선언한다.\n",
    "2. 문자열을 입력받은 후 처음 부터 10칸을 출력한다.\n",
    "3. 각각의 위치값은 numstart와 numend저장하고 다음 으로 진행할때는 numend값을 numstart에 대입하여 값의 범위를 변경하여 준다.\n",
    "4. 이 과정을 반복한다.\n",
    "5. 마지막으로 10칸이 남지 않을 경우 남은 인덱스 부터 문자열의 마지막 인덱스까지 출력하여 준다."
   ]
  },
  {
   "cell_type": "markdown",
   "metadata": {},
   "source": [
    "### 11.[ACM-ICPC 문제 2839번]\n",
    "- 설탕배달\n",
    "![assignment_3](./images/3.jpg)"
   ]
  },
  {
   "cell_type": "code",
   "execution_count": 68,
   "metadata": {},
   "outputs": [
    {
     "name": "stdout",
     "output_type": "stream",
     "text": [
      "11\n",
      "3\n"
     ]
    }
   ],
   "source": [
    "weight = int(input())\n",
    "counting = j = check = 0\n",
    "\n",
    "while j <= int(weight/3):\n",
    "    k=0\n",
    "    tmp = weight - (3*j)\n",
    "    counting = j\n",
    "    \n",
    "    if tmp == 0:\n",
    "        check = 1\n",
    "        break \n",
    "    \n",
    "    while k <= int(tmp/5):\n",
    "        tmp1 = tmp - (5*k)\n",
    "        counting = j+k\n",
    "        if tmp1 == 0:\n",
    "            check = 1\n",
    "            j = int(weight/3)\n",
    "            break \n",
    "        k+=1\n",
    "        \n",
    "    j+=1\n",
    "        \n",
    "    \n",
    "if check == 1:\n",
    "    print(counting)\n",
    "else:\n",
    "    print(-1)\n",
    "    \n"
   ]
  },
  {
   "cell_type": "markdown",
   "metadata": {},
   "source": [
    "##### 11. 코드에 대한 설명\n",
    "1. 몇 번 연산을 하였는지 counting 변수와 정확히 맞아 떨어졌는지 확인하는 check변수를 선언한다.\n",
    "2. 가장 작은 값인 3으로 while문을 시작하여 1번씩 원래 무게에서 빼준다.\n",
    "3. 3에서 뺀 무게 만큼 5에서 무게를 빼준다.\n",
    "4. 만약 위의 과정에서 정확히 0으로 맞아 떨어진다면 while문을 탈출한다.\n",
    "5. check 변수에 1로 저장 되었다면 counting 변수를 불러 총 몇번의 일을 하면 되는지 출력한다. 만약 check변수가 1이 아니라면 정확히 값이 떨어지지 않으므로 -1을 출력한다."
   ]
  },
  {
   "cell_type": "markdown",
   "metadata": {},
   "source": [
    "# 숙제이후 소감"
   ]
  },
  {
   "cell_type": "markdown",
   "metadata": {},
   "source": [
    "- 4번 문제와 같이 error를 출력하여 error를 직접 이해하고 디버깅하는 것이 의미가 있었습니다.\n",
    "- 또한 일반 다른언어와 다르게 자료구조에서 흔히 사용하는 list, tuple 등을 지원하여 소수를 구할 때 타언어에 비하여 쉽게 한 것같아 Python에 많은 매력을 느꼈습니다.\n",
    "- 그리고 마지막 문제에서 알고리즘을 구하는데에 생각을 오래하였습니다. 그 이유로는 5로 먼저 나누어보니 일하는 횟수가 더 많았습니다. 이유로는 18kg처럼 5kg 3번에 3kg 1번이 아니라 5kg 0번에 3kg 6번으로 먼저 인식되어 while문을 탈출하게 되었습니다. 그래서 5로 먼저 나누지 않고 3으로 먼저 나누니 문제가 정답으로 향하게 되었습니다.\n",
    "\n",
    "- 단순한 알고리즘도 깊게 생각하여야 되서 정말 재미있는 문제였습니다. 앞으로 Python이 더 흥미로울 것 같습니다."
   ]
  }
 ],
 "metadata": {
  "kernelspec": {
   "display_name": "Python 3",
   "language": "python",
   "name": "python3"
  },
  "language_info": {
   "codemirror_mode": {
    "name": "ipython",
    "version": 3
   },
   "file_extension": ".py",
   "mimetype": "text/x-python",
   "name": "python",
   "nbconvert_exporter": "python",
   "pygments_lexer": "ipython3",
   "version": "3.6.6"
  }
 },
 "nbformat": 4,
 "nbformat_minor": 2
}
